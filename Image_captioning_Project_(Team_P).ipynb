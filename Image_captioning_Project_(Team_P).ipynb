{
  "nbformat": 4,
  "nbformat_minor": 0,
  "metadata": {
    "colab": {
      "provenance": [],
      "include_colab_link": true
    },
    "kernelspec": {
      "name": "python3",
      "display_name": "Python 3"
    },
    "language_info": {
      "name": "python"
    }
  },
  "cells": [
    {
      "cell_type": "markdown",
      "metadata": {
        "id": "view-in-github",
        "colab_type": "text"
      },
      "source": [
        "<a href=\"https://colab.research.google.com/github/kushal1989/BookWish-Connecting-Donors-and-Readers/blob/main/Image_captioning_Project_(Team_P).ipynb\" target=\"_parent\"><img src=\"https://colab.research.google.com/assets/colab-badge.svg\" alt=\"Open In Colab\"/></a>"
      ]
    },
    {
      "cell_type": "code",
      "execution_count": null,
      "metadata": {
        "id": "s2n57wmykE1n"
      },
      "outputs": [],
      "source": []
    },
    {
      "cell_type": "code",
      "source": [
        "# ======= Setup: seeds, imports, folders =======\n",
        "import os, json, pickle, random, math\n",
        "import numpy as np\n",
        "import pandas as pd\n",
        "import matplotlib.pyplot as plt\n",
        "from tqdm import tqdm\n",
        "\n",
        "import tensorflow as tf\n",
        "from tensorflow.keras.preprocessing.sequence import pad_sequences\n",
        "from tensorflow.keras.applications.inception_v3 import InceptionV3, preprocess_input\n",
        "from tensorflow.keras import layers, Model\n",
        "\n",
        "# Reproducibility\n",
        "SEED = 42\n",
        "random.seed(SEED); np.random.seed(SEED); tf.random.set_seed(SEED)\n",
        "\n",
        "# Base paths\n",
        "BASE_DIR = \"/content/ic_project\"\n",
        "DATA_DIR = f\"{BASE_DIR}/data\"                     # raw + preprocessed data\n",
        "ART_DIR  = f\"{BASE_DIR}/artifacts\"                # tokenizer, features, ckpts, reports\n",
        "\n",
        "# Create folders\n",
        "for p in [\n",
        "    BASE_DIR, DATA_DIR, ART_DIR,\n",
        "    f\"{DATA_DIR}/raw/train2017\", f\"{DATA_DIR}/raw/val2017\",\n",
        "    f\"{DATA_DIR}/raw/annotations\",\n",
        "    f\"{DATA_DIR}/preprocessed/train\", f\"{DATA_DIR}/preprocessed/val\",\n",
        "    f\"{ART_DIR}/features/train\", f\"{ART_DIR}/features/val\",\n",
        "    f\"{ART_DIR}/smoke_set\", f\"{ART_DIR}/reports\"\n",
        "]:\n",
        "    os.makedirs(p, exist_ok=True)\n",
        "\n",
        "print(\"Folders ready.\")\n",
        "!python --version\n",
        "print(\"TF version:\", tf.__version__)\n"
      ],
      "metadata": {
        "colab": {
          "base_uri": "https://localhost:8080/"
        },
        "id": "A48jiV5lOjOu",
        "outputId": "0fb29aaf-69eb-430a-d2d2-cbcd0ba4f393"
      },
      "execution_count": 8,
      "outputs": [
        {
          "output_type": "stream",
          "name": "stdout",
          "text": [
            "Folders ready.\n",
            "Python 3.11.13\n",
            "TF version: 2.18.0\n"
          ]
        }
      ]
    }
  ]
}